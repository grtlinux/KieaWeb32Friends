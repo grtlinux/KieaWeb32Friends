{
 "cells": [
  {
   "cell_type": "markdown",
   "metadata": {},
   "source": [
    "---\n",
    "## 정리 (2024-06-18)"
   ]
  },
  {
   "cell_type": "code",
   "execution_count": 5,
   "metadata": {},
   "outputs": [
    {
     "name": "stdout",
     "output_type": "stream",
     "text": [
      "<li>15_강정자.png</li>\n",
      "<li>15_강정희.png</li>\n",
      "<li>15_강향주.png</li>\n",
      "<li>15_고계선.png</li>\n",
      "<li>15_고미자.png</li>\n"
     ]
    }
   ],
   "source": [
    "import re\n",
    "\n",
    "_file_path = './README2.txt'\n",
    "with open(_file_path, 'rb') as f:\n",
    "    lines = f.readlines()\n",
    "f.close()\n",
    "\n",
    "for line in lines[:5]:\n",
    "    sline = line.decode('utf-8').strip()\n",
    "    items = re.split('\\s+', sline)\n",
    "    # print(f'{len(items) = }')\n",
    "    # if len(items) < 2:\n",
    "    #     continue\n",
    "    \n",
    "    # item = list(items[0])\n",
    "    # for i, ch in enumerate(item):\n",
    "    #     # print(f'{ch!r} {ord(ch):x}')\n",
    "    #     # print(f'{item[i]!r} {ord(item[i]):x}')\n",
    "    #     while 256 < ord(item[i]):\n",
    "    #         idx = i\n",
    "    #         # print(f'\\tpop: {item[i]!r} {ord(item[i]):x}')\n",
    "    #         item.pop(i)\n",
    "\n",
    "    # item = ''.join(item)\n",
    "    # line = item[:idx] + items[1] + item[idx:]\n",
    "    # # print(f'{len(line) = }, {line = }')\n",
    "\n",
    "    # <li><a href=\"#\">02_교정.png</a></li>\n",
    "    sline += '.png'\n",
    "    print(f'<li>{sline}</li>')"
   ]
  }
 ],
 "metadata": {
  "kernelspec": {
   "display_name": "first-py310",
   "language": "python",
   "name": "python3"
  },
  "language_info": {
   "codemirror_mode": {
    "name": "ipython",
    "version": 3
   },
   "file_extension": ".py",
   "mimetype": "text/x-python",
   "name": "python",
   "nbconvert_exporter": "python",
   "pygments_lexer": "ipython3",
   "version": "3.10.9"
  }
 },
 "nbformat": 4,
 "nbformat_minor": 2
}
